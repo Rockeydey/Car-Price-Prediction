{
  "nbformat": 4,
  "nbformat_minor": 0,
  "metadata": {
    "colab": {
      "provenance": [],
      "toc_visible": true,
      "mount_file_id": "1bg6UI9qyPfmp3u8SBqKg21sL4GM-xQKd",
      "authorship_tag": "ABX9TyOe+5FoWF/8f1cUJIk8GHyq",
      "include_colab_link": true
    },
    "kernelspec": {
      "name": "python3",
      "display_name": "Python 3"
    },
    "language_info": {
      "name": "python"
    }
  },
  "cells": [
    {
      "cell_type": "markdown",
      "metadata": {
        "id": "view-in-github",
        "colab_type": "text"
      },
      "source": [
        "<a href=\"https://colab.research.google.com/github/Rockeydey/Car-Price-Prediction/blob/main/Case_Study_2_Predicting_Customer_Churn.ipynb\" target=\"_parent\"><img src=\"https://colab.research.google.com/assets/colab-badge.svg\" alt=\"Open In Colab\"/></a>"
      ]
    },
    {
      "cell_type": "markdown",
      "source": [
        "# Install Package"
      ],
      "metadata": {
        "id": "9EgeoyoPxz7k"
      }
    },
    {
      "cell_type": "code",
      "source": [
        "# !pip install chardet\n",
        "# !pip install imblearn"
      ],
      "metadata": {
        "id": "tTQHNV0UX0gM"
      },
      "execution_count": 1,
      "outputs": []
    },
    {
      "cell_type": "markdown",
      "source": [
        "# Import Library"
      ],
      "metadata": {
        "id": "xQbffusCV5uC"
      }
    },
    {
      "cell_type": "code",
      "source": [
        "import pandas as pd\n",
        "import numpy as np\n",
        "\n",
        "# Detect the encoding CSV files\n",
        "import chardet\n",
        "\n",
        "# For visualization\n",
        "import matplotlib.pyplot as plt\n",
        "import seaborn as sns\n",
        "\n",
        "# For missing value imputation\n",
        "from sklearn.impute import SimpleImputer\n",
        "\n",
        "\n",
        "# For clustering\n",
        "from sklearn.cluster import KMeans\n",
        "\n",
        "\n",
        "# For train test split\n",
        "from sklearn.model_selection import train_test_split\n",
        "\n",
        "# For imbalance target class correction\n",
        "from imblearn.over_sampling import RandomOverSampler\n",
        "\n",
        "# For model building\n",
        "from sklearn.linear_model import LogisticRegression\n",
        "from xgboost import XGBClassifier\n",
        "from imblearn.ensemble import BalancedRandomForestClassifier\n",
        "from imblearn.ensemble import EasyEnsembleClassifier\n",
        "from imblearn.ensemble import RUSBoostClassifier\n",
        "\n",
        "# For evaluation\n",
        "from sklearn.metrics import accuracy_score, recall_score, precision_score, f1_score\n"
      ],
      "metadata": {
        "id": "3YSv482lX5QZ"
      },
      "execution_count": 2,
      "outputs": []
    },
    {
      "cell_type": "markdown",
      "source": [
        "# Import Data"
      ],
      "metadata": {
        "id": "5-dS58ldWJyC"
      }
    },
    {
      "cell_type": "code",
      "source": [
        "telecom_customer_churn_encoding = chardet.detect(open(\"/content/drive/MyDrive/dataset/telecom_customer_churn.csv\", \"rb\").read())[\"encoding\"]\n",
        "telecom_data_dictionary_encoding = chardet.detect(open(\"/content/drive/MyDrive/dataset/telecom_data_dictionary.csv\", \"rb\").read())[\"encoding\"]\n",
        "telecom_zipcode_population_encoding = chardet.detect(open(\"/content/drive/MyDrive/dataset/telecom_zipcode_population.csv\", \"rb\").read())[\"encoding\"]"
      ],
      "metadata": {
        "id": "NIcJ1LEmX7My"
      },
      "execution_count": 3,
      "outputs": []
    },
    {
      "cell_type": "code",
      "source": [
        "telecom_customer_churn = pd.read_csv(\"/content/drive/MyDrive/dataset/telecom_customer_churn.csv\", encoding=telecom_customer_churn_encoding)\n",
        "telecom_data_dictionary = pd.read_csv(\"/content/drive/MyDrive/dataset/telecom_data_dictionary.csv\", encoding=telecom_data_dictionary_encoding)\n",
        "telecom_zipcode_population = pd.read_csv(\"/content/drive/MyDrive/dataset/telecom_zipcode_population.csv\", encoding=telecom_zipcode_population_encoding)"
      ],
      "metadata": {
        "id": "XXWZIseFdBqN"
      },
      "execution_count": 4,
      "outputs": []
    },
    {
      "cell_type": "markdown",
      "source": [
        "# Exploratory Data Analysis"
      ],
      "metadata": {
        "id": "Kv1fmjWHXTIi"
      }
    },
    {
      "cell_type": "markdown",
      "source": [
        "## summarise data"
      ],
      "metadata": {
        "id": "EzBizMb_ea15"
      }
    },
    {
      "cell_type": "code",
      "source": [
        "print(\"\\n Telecom_customer_churn: \\n\", telecom_customer_churn.head())\n",
        "print(\"\\n Telecom_data_dictionary: \\n\", telecom_data_dictionary.head())\n",
        "print(\"\\n Telecom_zipcode_population: \\n\", telecom_zipcode_population.head())\n",
        "print(\"\\n Telecom_customer_churn shape: \", telecom_customer_churn.shape)\n",
        "print(\"\\n Telecom_data_dictionary shape: \", telecom_data_dictionary.shape)\n",
        "print(\"\\n Telecom_zipcode_population shape: \", telecom_zipcode_population.shape)\n"
      ],
      "metadata": {
        "colab": {
          "base_uri": "https://localhost:8080/"
        },
        "id": "hIvByOP8Y3FQ",
        "outputId": "17645167-da83-4086-8a8e-ea01f7cc06a7"
      },
      "execution_count": 5,
      "outputs": [
        {
          "output_type": "stream",
          "name": "stdout",
          "text": [
            "\n",
            " Telecom_customer_churn: \n",
            "   Customer ID  Gender  Age Married  Number of Dependents          City  \\\n",
            "0  0002-ORFBO  Female   37     Yes                     0  Frazier Park   \n",
            "1  0003-MKNFE    Male   46      No                     0      Glendale   \n",
            "2  0004-TLHLJ    Male   50      No                     0    Costa Mesa   \n",
            "3  0011-IGKFF    Male   78     Yes                     0      Martinez   \n",
            "4  0013-EXCHZ  Female   75     Yes                     0     Camarillo   \n",
            "\n",
            "   Zip Code   Latitude   Longitude  Number of Referrals  ...   Payment Method  \\\n",
            "0     93225  34.827662 -118.999073                    2  ...      Credit Card   \n",
            "1     91206  34.162515 -118.203869                    0  ...      Credit Card   \n",
            "2     92627  33.645672 -117.922613                    0  ...  Bank Withdrawal   \n",
            "3     94553  38.014457 -122.115432                    1  ...  Bank Withdrawal   \n",
            "4     93010  34.227846 -119.079903                    3  ...      Credit Card   \n",
            "\n",
            "  Monthly Charge Total Charges  Total Refunds Total Extra Data Charges  \\\n",
            "0           65.6        593.30           0.00                        0   \n",
            "1           -4.0        542.40          38.33                       10   \n",
            "2           73.9        280.85           0.00                        0   \n",
            "3           98.0       1237.85           0.00                        0   \n",
            "4           83.9        267.40           0.00                        0   \n",
            "\n",
            "  Total Long Distance Charges Total Revenue  Customer Status   Churn Category  \\\n",
            "0                      381.51        974.81           Stayed              NaN   \n",
            "1                       96.21        610.28           Stayed              NaN   \n",
            "2                      134.60        415.45          Churned       Competitor   \n",
            "3                      361.66       1599.51          Churned  Dissatisfaction   \n",
            "4                       22.14        289.54          Churned  Dissatisfaction   \n",
            "\n",
            "                    Churn Reason  \n",
            "0                            NaN  \n",
            "1                            NaN  \n",
            "2  Competitor had better devices  \n",
            "3        Product dissatisfaction  \n",
            "4            Network reliability  \n",
            "\n",
            "[5 rows x 38 columns]\n",
            "\n",
            " Telecom_data_dictionary: \n",
            "             Table                 Field  \\\n",
            "0  Customer Churn            CustomerID   \n",
            "1  Customer Churn                Gender   \n",
            "2  Customer Churn                   Age   \n",
            "3  Customer Churn               Married   \n",
            "4  Customer Churn  Number of Dependents   \n",
            "\n",
            "                                         Description  \n",
            "0          A unique ID that identifies each customer  \n",
            "1                The customer’s gender: Male, Female  \n",
            "2  The customer’s current age, in years, at the t...  \n",
            "3      Indicates if the customer is married: Yes, No  \n",
            "4  Indicates the number of dependents that live w...  \n",
            "\n",
            " Telecom_zipcode_population: \n",
            "    Zip Code  Population\n",
            "0     90001       54492\n",
            "1     90002       44586\n",
            "2     90003       58198\n",
            "3     90004       67852\n",
            "4     90005       43019\n",
            "\n",
            " Telecom_customer_churn shape:  (7043, 38)\n",
            "\n",
            " Telecom_data_dictionary shape:  (40, 3)\n",
            "\n",
            " Telecom_zipcode_population shape:  (1671, 2)\n"
          ]
        }
      ]
    },
    {
      "cell_type": "code",
      "source": [
        "#Get population in churn data\n",
        "df = pd.merge(telecom_customer_churn, telecom_zipcode_population, on='Zip Code', how='left')"
      ],
      "metadata": {
        "id": "9DjDa7DoaDSG"
      },
      "execution_count": 6,
      "outputs": []
    },
    {
      "cell_type": "code",
      "source": [
        "print(df.columns, \"\\n \",df.shape)"
      ],
      "metadata": {
        "colab": {
          "base_uri": "https://localhost:8080/"
        },
        "id": "xq6hU-PqdURN",
        "outputId": "491de74b-8aad-4a79-edb3-8da4a05dea78"
      },
      "execution_count": 7,
      "outputs": [
        {
          "output_type": "stream",
          "name": "stdout",
          "text": [
            "Index(['Customer ID', 'Gender', 'Age', 'Married', 'Number of Dependents',\n",
            "       'City', 'Zip Code', 'Latitude', 'Longitude', 'Number of Referrals',\n",
            "       'Tenure in Months', 'Offer', 'Phone Service',\n",
            "       'Avg Monthly Long Distance Charges', 'Multiple Lines',\n",
            "       'Internet Service', 'Internet Type', 'Avg Monthly GB Download',\n",
            "       'Online Security', 'Online Backup', 'Device Protection Plan',\n",
            "       'Premium Tech Support', 'Streaming TV', 'Streaming Movies',\n",
            "       'Streaming Music', 'Unlimited Data', 'Contract', 'Paperless Billing',\n",
            "       'Payment Method', 'Monthly Charge', 'Total Charges', 'Total Refunds',\n",
            "       'Total Extra Data Charges', 'Total Long Distance Charges',\n",
            "       'Total Revenue', 'Customer Status', 'Churn Category', 'Churn Reason',\n",
            "       'Population'],\n",
            "      dtype='object') \n",
            "  (7043, 39)\n"
          ]
        }
      ]
    },
    {
      "cell_type": "code",
      "source": [
        "# Drop columns which has all unique values\n",
        "df = df.loc[:, (df.nunique() != len(df))]"
      ],
      "metadata": {
        "id": "WzTJSfJHBN_t"
      },
      "execution_count": 8,
      "outputs": []
    },
    {
      "cell_type": "markdown",
      "source": [
        "## Defining target variable, numerical, categorical variables"
      ],
      "metadata": {
        "id": "cUE5UUVDqHvC"
      }
    },
    {
      "cell_type": "code",
      "source": [
        "# Target variable\n",
        "target_variable_name =[\"Customer Status\"]\n",
        "print(\"target_variable_name :\",target_variable_name )"
      ],
      "metadata": {
        "colab": {
          "base_uri": "https://localhost:8080/"
        },
        "id": "Gupe0_L4shpZ",
        "outputId": "66d93b8c-23c8-4381-986b-90125c75125f"
      },
      "execution_count": 9,
      "outputs": [
        {
          "output_type": "stream",
          "name": "stdout",
          "text": [
            "target_variable_name : ['Customer Status']\n"
          ]
        }
      ]
    },
    {
      "cell_type": "code",
      "source": [
        "# Numerical variable\n",
        "numerical_variable_name = [\n",
        "    col for col in df.columns\n",
        "    if df[col].dtype != 'object' and col !='Zip Code' and col !='Latitude'and col !='Longitude' and col !='Age'\n",
        "]\n",
        "print (\"numerical variables:\",numerical_variable_name)"
      ],
      "metadata": {
        "colab": {
          "base_uri": "https://localhost:8080/"
        },
        "id": "3XytGObQraSp",
        "outputId": "99ee2213-a4b5-401b-8b85-d424c36be627"
      },
      "execution_count": 10,
      "outputs": [
        {
          "output_type": "stream",
          "name": "stdout",
          "text": [
            "numerical variables: ['Number of Dependents', 'Number of Referrals', 'Tenure in Months', 'Avg Monthly Long Distance Charges', 'Avg Monthly GB Download', 'Monthly Charge', 'Total Charges', 'Total Refunds', 'Total Extra Data Charges', 'Total Long Distance Charges', 'Total Revenue', 'Population']\n"
          ]
        }
      ]
    },
    {
      "cell_type": "code",
      "source": [
        "# Categorical variable\n",
        "categorical_variable_name = [\n",
        "    col for col in df.columns\n",
        "    if col != \"Customer Status\" and col not in numerical_variable_name\n",
        "]\n",
        "\n",
        "print(\"Categorical variables:\", categorical_variable_name)"
      ],
      "metadata": {
        "colab": {
          "base_uri": "https://localhost:8080/"
        },
        "id": "FxGtBdtTn0Qi",
        "outputId": "e239ed42-97ee-4750-843c-d9c088d1c157"
      },
      "execution_count": 11,
      "outputs": [
        {
          "output_type": "stream",
          "name": "stdout",
          "text": [
            "Categorical variables: ['Gender', 'Age', 'Married', 'City', 'Zip Code', 'Latitude', 'Longitude', 'Offer', 'Phone Service', 'Multiple Lines', 'Internet Service', 'Internet Type', 'Online Security', 'Online Backup', 'Device Protection Plan', 'Premium Tech Support', 'Streaming TV', 'Streaming Movies', 'Streaming Music', 'Unlimited Data', 'Contract', 'Paperless Billing', 'Payment Method', 'Churn Category', 'Churn Reason']\n"
          ]
        }
      ]
    },
    {
      "cell_type": "markdown",
      "source": [
        "## Descriptive statistics for numerical columns\n"
      ],
      "metadata": {
        "id": "_ndT6xZsfg4W"
      }
    },
    {
      "cell_type": "code",
      "source": [
        "df.describe().transpose()"
      ],
      "metadata": {
        "colab": {
          "base_uri": "https://localhost:8080/",
          "height": 866
        },
        "id": "LXv3sRmyfCl1",
        "outputId": "ab86e207-b60d-421d-f73a-53654f28cde4"
      },
      "execution_count": 12,
      "outputs": [
        {
          "output_type": "execute_result",
          "data": {
            "text/plain": [
              "                                    count          mean           std  \\\n",
              "Age                                7043.0     46.509726     16.750352   \n",
              "Number of Dependents               7043.0      0.468692      0.962802   \n",
              "Zip Code                           7043.0  93486.070567   1856.767505   \n",
              "Latitude                           7043.0     36.197455      2.468929   \n",
              "Longitude                          7043.0   -119.756684      2.154425   \n",
              "Number of Referrals                7043.0      1.951867      3.001199   \n",
              "Tenure in Months                   7043.0     32.386767     24.542061   \n",
              "Avg Monthly Long Distance Charges  6361.0     25.420517     14.200374   \n",
              "Avg Monthly GB Download            5517.0     26.189958     19.586585   \n",
              "Monthly Charge                     7043.0     63.596131     31.204743   \n",
              "Total Charges                      7043.0   2280.381264   2266.220462   \n",
              "Total Refunds                      7043.0      1.962182      7.902614   \n",
              "Total Extra Data Charges           7043.0      6.860713     25.104978   \n",
              "Total Long Distance Charges        7043.0    749.099262    846.660055   \n",
              "Total Revenue                      7043.0   3034.379056   2865.204542   \n",
              "Population                         7043.0  22139.603294  21152.392837   \n",
              "\n",
              "                                            min           25%           50%  \\\n",
              "Age                                   19.000000     32.000000     46.000000   \n",
              "Number of Dependents                   0.000000      0.000000      0.000000   \n",
              "Zip Code                           90001.000000  92101.000000  93518.000000   \n",
              "Latitude                              32.555828     33.990646     36.205465   \n",
              "Longitude                           -124.301372   -121.788090   -119.595293   \n",
              "Number of Referrals                    0.000000      0.000000      0.000000   \n",
              "Tenure in Months                       1.000000      9.000000     29.000000   \n",
              "Avg Monthly Long Distance Charges      1.010000     13.050000     25.690000   \n",
              "Avg Monthly GB Download                2.000000     13.000000     21.000000   \n",
              "Monthly Charge                       -10.000000     30.400000     70.050000   \n",
              "Total Charges                         18.800000    400.150000   1394.550000   \n",
              "Total Refunds                          0.000000      0.000000      0.000000   \n",
              "Total Extra Data Charges               0.000000      0.000000      0.000000   \n",
              "Total Long Distance Charges            0.000000     70.545000    401.440000   \n",
              "Total Revenue                         21.360000    605.610000   2108.640000   \n",
              "Population                            11.000000   2344.000000  17554.000000   \n",
              "\n",
              "                                            75%            max  \n",
              "Age                                   60.000000      80.000000  \n",
              "Number of Dependents                   0.000000       9.000000  \n",
              "Zip Code                           95329.000000   96150.000000  \n",
              "Latitude                              38.161321      41.962127  \n",
              "Longitude                           -117.969795    -114.192901  \n",
              "Number of Referrals                    3.000000      11.000000  \n",
              "Tenure in Months                      55.000000      72.000000  \n",
              "Avg Monthly Long Distance Charges     37.680000      49.990000  \n",
              "Avg Monthly GB Download               30.000000      85.000000  \n",
              "Monthly Charge                        89.750000     118.750000  \n",
              "Total Charges                       3786.600000    8684.800000  \n",
              "Total Refunds                          0.000000      49.790000  \n",
              "Total Extra Data Charges               0.000000     150.000000  \n",
              "Total Long Distance Charges         1191.100000    3564.720000  \n",
              "Total Revenue                       4801.145000   11979.340000  \n",
              "Population                         36125.000000  105285.000000  "
            ],
            "text/html": [
              "\n",
              "  <div id=\"df-0cb76d40-c28b-42a2-bbe2-4575eacdc426\" class=\"colab-df-container\">\n",
              "    <div>\n",
              "<style scoped>\n",
              "    .dataframe tbody tr th:only-of-type {\n",
              "        vertical-align: middle;\n",
              "    }\n",
              "\n",
              "    .dataframe tbody tr th {\n",
              "        vertical-align: top;\n",
              "    }\n",
              "\n",
              "    .dataframe thead th {\n",
              "        text-align: right;\n",
              "    }\n",
              "</style>\n",
              "<table border=\"1\" class=\"dataframe\">\n",
              "  <thead>\n",
              "    <tr style=\"text-align: right;\">\n",
              "      <th></th>\n",
              "      <th>count</th>\n",
              "      <th>mean</th>\n",
              "      <th>std</th>\n",
              "      <th>min</th>\n",
              "      <th>25%</th>\n",
              "      <th>50%</th>\n",
              "      <th>75%</th>\n",
              "      <th>max</th>\n",
              "    </tr>\n",
              "  </thead>\n",
              "  <tbody>\n",
              "    <tr>\n",
              "      <th>Age</th>\n",
              "      <td>7043.0</td>\n",
              "      <td>46.509726</td>\n",
              "      <td>16.750352</td>\n",
              "      <td>19.000000</td>\n",
              "      <td>32.000000</td>\n",
              "      <td>46.000000</td>\n",
              "      <td>60.000000</td>\n",
              "      <td>80.000000</td>\n",
              "    </tr>\n",
              "    <tr>\n",
              "      <th>Number of Dependents</th>\n",
              "      <td>7043.0</td>\n",
              "      <td>0.468692</td>\n",
              "      <td>0.962802</td>\n",
              "      <td>0.000000</td>\n",
              "      <td>0.000000</td>\n",
              "      <td>0.000000</td>\n",
              "      <td>0.000000</td>\n",
              "      <td>9.000000</td>\n",
              "    </tr>\n",
              "    <tr>\n",
              "      <th>Zip Code</th>\n",
              "      <td>7043.0</td>\n",
              "      <td>93486.070567</td>\n",
              "      <td>1856.767505</td>\n",
              "      <td>90001.000000</td>\n",
              "      <td>92101.000000</td>\n",
              "      <td>93518.000000</td>\n",
              "      <td>95329.000000</td>\n",
              "      <td>96150.000000</td>\n",
              "    </tr>\n",
              "    <tr>\n",
              "      <th>Latitude</th>\n",
              "      <td>7043.0</td>\n",
              "      <td>36.197455</td>\n",
              "      <td>2.468929</td>\n",
              "      <td>32.555828</td>\n",
              "      <td>33.990646</td>\n",
              "      <td>36.205465</td>\n",
              "      <td>38.161321</td>\n",
              "      <td>41.962127</td>\n",
              "    </tr>\n",
              "    <tr>\n",
              "      <th>Longitude</th>\n",
              "      <td>7043.0</td>\n",
              "      <td>-119.756684</td>\n",
              "      <td>2.154425</td>\n",
              "      <td>-124.301372</td>\n",
              "      <td>-121.788090</td>\n",
              "      <td>-119.595293</td>\n",
              "      <td>-117.969795</td>\n",
              "      <td>-114.192901</td>\n",
              "    </tr>\n",
              "    <tr>\n",
              "      <th>Number of Referrals</th>\n",
              "      <td>7043.0</td>\n",
              "      <td>1.951867</td>\n",
              "      <td>3.001199</td>\n",
              "      <td>0.000000</td>\n",
              "      <td>0.000000</td>\n",
              "      <td>0.000000</td>\n",
              "      <td>3.000000</td>\n",
              "      <td>11.000000</td>\n",
              "    </tr>\n",
              "    <tr>\n",
              "      <th>Tenure in Months</th>\n",
              "      <td>7043.0</td>\n",
              "      <td>32.386767</td>\n",
              "      <td>24.542061</td>\n",
              "      <td>1.000000</td>\n",
              "      <td>9.000000</td>\n",
              "      <td>29.000000</td>\n",
              "      <td>55.000000</td>\n",
              "      <td>72.000000</td>\n",
              "    </tr>\n",
              "    <tr>\n",
              "      <th>Avg Monthly Long Distance Charges</th>\n",
              "      <td>6361.0</td>\n",
              "      <td>25.420517</td>\n",
              "      <td>14.200374</td>\n",
              "      <td>1.010000</td>\n",
              "      <td>13.050000</td>\n",
              "      <td>25.690000</td>\n",
              "      <td>37.680000</td>\n",
              "      <td>49.990000</td>\n",
              "    </tr>\n",
              "    <tr>\n",
              "      <th>Avg Monthly GB Download</th>\n",
              "      <td>5517.0</td>\n",
              "      <td>26.189958</td>\n",
              "      <td>19.586585</td>\n",
              "      <td>2.000000</td>\n",
              "      <td>13.000000</td>\n",
              "      <td>21.000000</td>\n",
              "      <td>30.000000</td>\n",
              "      <td>85.000000</td>\n",
              "    </tr>\n",
              "    <tr>\n",
              "      <th>Monthly Charge</th>\n",
              "      <td>7043.0</td>\n",
              "      <td>63.596131</td>\n",
              "      <td>31.204743</td>\n",
              "      <td>-10.000000</td>\n",
              "      <td>30.400000</td>\n",
              "      <td>70.050000</td>\n",
              "      <td>89.750000</td>\n",
              "      <td>118.750000</td>\n",
              "    </tr>\n",
              "    <tr>\n",
              "      <th>Total Charges</th>\n",
              "      <td>7043.0</td>\n",
              "      <td>2280.381264</td>\n",
              "      <td>2266.220462</td>\n",
              "      <td>18.800000</td>\n",
              "      <td>400.150000</td>\n",
              "      <td>1394.550000</td>\n",
              "      <td>3786.600000</td>\n",
              "      <td>8684.800000</td>\n",
              "    </tr>\n",
              "    <tr>\n",
              "      <th>Total Refunds</th>\n",
              "      <td>7043.0</td>\n",
              "      <td>1.962182</td>\n",
              "      <td>7.902614</td>\n",
              "      <td>0.000000</td>\n",
              "      <td>0.000000</td>\n",
              "      <td>0.000000</td>\n",
              "      <td>0.000000</td>\n",
              "      <td>49.790000</td>\n",
              "    </tr>\n",
              "    <tr>\n",
              "      <th>Total Extra Data Charges</th>\n",
              "      <td>7043.0</td>\n",
              "      <td>6.860713</td>\n",
              "      <td>25.104978</td>\n",
              "      <td>0.000000</td>\n",
              "      <td>0.000000</td>\n",
              "      <td>0.000000</td>\n",
              "      <td>0.000000</td>\n",
              "      <td>150.000000</td>\n",
              "    </tr>\n",
              "    <tr>\n",
              "      <th>Total Long Distance Charges</th>\n",
              "      <td>7043.0</td>\n",
              "      <td>749.099262</td>\n",
              "      <td>846.660055</td>\n",
              "      <td>0.000000</td>\n",
              "      <td>70.545000</td>\n",
              "      <td>401.440000</td>\n",
              "      <td>1191.100000</td>\n",
              "      <td>3564.720000</td>\n",
              "    </tr>\n",
              "    <tr>\n",
              "      <th>Total Revenue</th>\n",
              "      <td>7043.0</td>\n",
              "      <td>3034.379056</td>\n",
              "      <td>2865.204542</td>\n",
              "      <td>21.360000</td>\n",
              "      <td>605.610000</td>\n",
              "      <td>2108.640000</td>\n",
              "      <td>4801.145000</td>\n",
              "      <td>11979.340000</td>\n",
              "    </tr>\n",
              "    <tr>\n",
              "      <th>Population</th>\n",
              "      <td>7043.0</td>\n",
              "      <td>22139.603294</td>\n",
              "      <td>21152.392837</td>\n",
              "      <td>11.000000</td>\n",
              "      <td>2344.000000</td>\n",
              "      <td>17554.000000</td>\n",
              "      <td>36125.000000</td>\n",
              "      <td>105285.000000</td>\n",
              "    </tr>\n",
              "  </tbody>\n",
              "</table>\n",
              "</div>\n",
              "    <div class=\"colab-df-buttons\">\n",
              "\n",
              "  <div class=\"colab-df-container\">\n",
              "    <button class=\"colab-df-convert\" onclick=\"convertToInteractive('df-0cb76d40-c28b-42a2-bbe2-4575eacdc426')\"\n",
              "            title=\"Convert this dataframe to an interactive table.\"\n",
              "            style=\"display:none;\">\n",
              "\n",
              "  <svg xmlns=\"http://www.w3.org/2000/svg\" height=\"24px\" viewBox=\"0 -960 960 960\">\n",
              "    <path d=\"M120-120v-720h720v720H120Zm60-500h600v-160H180v160Zm220 220h160v-160H400v160Zm0 220h160v-160H400v160ZM180-400h160v-160H180v160Zm440 0h160v-160H620v160ZM180-180h160v-160H180v160Zm440 0h160v-160H620v160Z\"/>\n",
              "  </svg>\n",
              "    </button>\n",
              "\n",
              "  <style>\n",
              "    .colab-df-container {\n",
              "      display:flex;\n",
              "      gap: 12px;\n",
              "    }\n",
              "\n",
              "    .colab-df-convert {\n",
              "      background-color: #E8F0FE;\n",
              "      border: none;\n",
              "      border-radius: 50%;\n",
              "      cursor: pointer;\n",
              "      display: none;\n",
              "      fill: #1967D2;\n",
              "      height: 32px;\n",
              "      padding: 0 0 0 0;\n",
              "      width: 32px;\n",
              "    }\n",
              "\n",
              "    .colab-df-convert:hover {\n",
              "      background-color: #E2EBFA;\n",
              "      box-shadow: 0px 1px 2px rgba(60, 64, 67, 0.3), 0px 1px 3px 1px rgba(60, 64, 67, 0.15);\n",
              "      fill: #174EA6;\n",
              "    }\n",
              "\n",
              "    .colab-df-buttons div {\n",
              "      margin-bottom: 4px;\n",
              "    }\n",
              "\n",
              "    [theme=dark] .colab-df-convert {\n",
              "      background-color: #3B4455;\n",
              "      fill: #D2E3FC;\n",
              "    }\n",
              "\n",
              "    [theme=dark] .colab-df-convert:hover {\n",
              "      background-color: #434B5C;\n",
              "      box-shadow: 0px 1px 3px 1px rgba(0, 0, 0, 0.15);\n",
              "      filter: drop-shadow(0px 1px 2px rgba(0, 0, 0, 0.3));\n",
              "      fill: #FFFFFF;\n",
              "    }\n",
              "  </style>\n",
              "\n",
              "    <script>\n",
              "      const buttonEl =\n",
              "        document.querySelector('#df-0cb76d40-c28b-42a2-bbe2-4575eacdc426 button.colab-df-convert');\n",
              "      buttonEl.style.display =\n",
              "        google.colab.kernel.accessAllowed ? 'block' : 'none';\n",
              "\n",
              "      async function convertToInteractive(key) {\n",
              "        const element = document.querySelector('#df-0cb76d40-c28b-42a2-bbe2-4575eacdc426');\n",
              "        const dataTable =\n",
              "          await google.colab.kernel.invokeFunction('convertToInteractive',\n",
              "                                                    [key], {});\n",
              "        if (!dataTable) return;\n",
              "\n",
              "        const docLinkHtml = 'Like what you see? Visit the ' +\n",
              "          '<a target=\"_blank\" href=https://colab.research.google.com/notebooks/data_table.ipynb>data table notebook</a>'\n",
              "          + ' to learn more about interactive tables.';\n",
              "        element.innerHTML = '';\n",
              "        dataTable['output_type'] = 'display_data';\n",
              "        await google.colab.output.renderOutput(dataTable, element);\n",
              "        const docLink = document.createElement('div');\n",
              "        docLink.innerHTML = docLinkHtml;\n",
              "        element.appendChild(docLink);\n",
              "      }\n",
              "    </script>\n",
              "  </div>\n",
              "\n",
              "\n",
              "<div id=\"df-3cfaecb7-d56f-4da7-a3fd-7f6f70ca22cc\">\n",
              "  <button class=\"colab-df-quickchart\" onclick=\"quickchart('df-3cfaecb7-d56f-4da7-a3fd-7f6f70ca22cc')\"\n",
              "            title=\"Suggest charts\"\n",
              "            style=\"display:none;\">\n",
              "\n",
              "<svg xmlns=\"http://www.w3.org/2000/svg\" height=\"24px\"viewBox=\"0 0 24 24\"\n",
              "     width=\"24px\">\n",
              "    <g>\n",
              "        <path d=\"M19 3H5c-1.1 0-2 .9-2 2v14c0 1.1.9 2 2 2h14c1.1 0 2-.9 2-2V5c0-1.1-.9-2-2-2zM9 17H7v-7h2v7zm4 0h-2V7h2v10zm4 0h-2v-4h2v4z\"/>\n",
              "    </g>\n",
              "</svg>\n",
              "  </button>\n",
              "\n",
              "<style>\n",
              "  .colab-df-quickchart {\n",
              "      --bg-color: #E8F0FE;\n",
              "      --fill-color: #1967D2;\n",
              "      --hover-bg-color: #E2EBFA;\n",
              "      --hover-fill-color: #174EA6;\n",
              "      --disabled-fill-color: #AAA;\n",
              "      --disabled-bg-color: #DDD;\n",
              "  }\n",
              "\n",
              "  [theme=dark] .colab-df-quickchart {\n",
              "      --bg-color: #3B4455;\n",
              "      --fill-color: #D2E3FC;\n",
              "      --hover-bg-color: #434B5C;\n",
              "      --hover-fill-color: #FFFFFF;\n",
              "      --disabled-bg-color: #3B4455;\n",
              "      --disabled-fill-color: #666;\n",
              "  }\n",
              "\n",
              "  .colab-df-quickchart {\n",
              "    background-color: var(--bg-color);\n",
              "    border: none;\n",
              "    border-radius: 50%;\n",
              "    cursor: pointer;\n",
              "    display: none;\n",
              "    fill: var(--fill-color);\n",
              "    height: 32px;\n",
              "    padding: 0;\n",
              "    width: 32px;\n",
              "  }\n",
              "\n",
              "  .colab-df-quickchart:hover {\n",
              "    background-color: var(--hover-bg-color);\n",
              "    box-shadow: 0 1px 2px rgba(60, 64, 67, 0.3), 0 1px 3px 1px rgba(60, 64, 67, 0.15);\n",
              "    fill: var(--button-hover-fill-color);\n",
              "  }\n",
              "\n",
              "  .colab-df-quickchart-complete:disabled,\n",
              "  .colab-df-quickchart-complete:disabled:hover {\n",
              "    background-color: var(--disabled-bg-color);\n",
              "    fill: var(--disabled-fill-color);\n",
              "    box-shadow: none;\n",
              "  }\n",
              "\n",
              "  .colab-df-spinner {\n",
              "    border: 2px solid var(--fill-color);\n",
              "    border-color: transparent;\n",
              "    border-bottom-color: var(--fill-color);\n",
              "    animation:\n",
              "      spin 1s steps(1) infinite;\n",
              "  }\n",
              "\n",
              "  @keyframes spin {\n",
              "    0% {\n",
              "      border-color: transparent;\n",
              "      border-bottom-color: var(--fill-color);\n",
              "      border-left-color: var(--fill-color);\n",
              "    }\n",
              "    20% {\n",
              "      border-color: transparent;\n",
              "      border-left-color: var(--fill-color);\n",
              "      border-top-color: var(--fill-color);\n",
              "    }\n",
              "    30% {\n",
              "      border-color: transparent;\n",
              "      border-left-color: var(--fill-color);\n",
              "      border-top-color: var(--fill-color);\n",
              "      border-right-color: var(--fill-color);\n",
              "    }\n",
              "    40% {\n",
              "      border-color: transparent;\n",
              "      border-right-color: var(--fill-color);\n",
              "      border-top-color: var(--fill-color);\n",
              "    }\n",
              "    60% {\n",
              "      border-color: transparent;\n",
              "      border-right-color: var(--fill-color);\n",
              "    }\n",
              "    80% {\n",
              "      border-color: transparent;\n",
              "      border-right-color: var(--fill-color);\n",
              "      border-bottom-color: var(--fill-color);\n",
              "    }\n",
              "    90% {\n",
              "      border-color: transparent;\n",
              "      border-bottom-color: var(--fill-color);\n",
              "    }\n",
              "  }\n",
              "</style>\n",
              "\n",
              "  <script>\n",
              "    async function quickchart(key) {\n",
              "      const quickchartButtonEl =\n",
              "        document.querySelector('#' + key + ' button');\n",
              "      quickchartButtonEl.disabled = true;  // To prevent multiple clicks.\n",
              "      quickchartButtonEl.classList.add('colab-df-spinner');\n",
              "      try {\n",
              "        const charts = await google.colab.kernel.invokeFunction(\n",
              "            'suggestCharts', [key], {});\n",
              "      } catch (error) {\n",
              "        console.error('Error during call to suggestCharts:', error);\n",
              "      }\n",
              "      quickchartButtonEl.classList.remove('colab-df-spinner');\n",
              "      quickchartButtonEl.classList.add('colab-df-quickchart-complete');\n",
              "    }\n",
              "    (() => {\n",
              "      let quickchartButtonEl =\n",
              "        document.querySelector('#df-3cfaecb7-d56f-4da7-a3fd-7f6f70ca22cc button');\n",
              "      quickchartButtonEl.style.display =\n",
              "        google.colab.kernel.accessAllowed ? 'block' : 'none';\n",
              "    })();\n",
              "  </script>\n",
              "</div>\n",
              "\n",
              "    </div>\n",
              "  </div>\n"
            ],
            "application/vnd.google.colaboratory.intrinsic+json": {
              "type": "dataframe",
              "summary": "{\n  \"name\": \"df\",\n  \"rows\": 16,\n  \"fields\": [\n    {\n      \"column\": \"count\",\n      \"properties\": {\n        \"dtype\": \"number\",\n        \"std\": 407.3570096774245,\n        \"min\": 5517.0,\n        \"max\": 7043.0,\n        \"samples\": [\n          7043.0,\n          6361.0,\n          5517.0\n        ],\n        \"num_unique_values\": 3,\n        \"semantic_type\": \"\",\n        \"description\": \"\"\n      }\n    },\n    {\n      \"column\": \"mean\",\n      \"properties\": {\n        \"dtype\": \"number\",\n        \"std\": 23547.718357239228,\n        \"min\": -119.75668367414455,\n        \"max\": 93486.07056651995,\n        \"samples\": [\n          46.50972596904728,\n          0.4686923186142269,\n          1.9518671020871787\n        ],\n        \"num_unique_values\": 16,\n        \"semantic_type\": \"\",\n        \"description\": \"\"\n      }\n    },\n    {\n      \"column\": \"std\",\n      \"properties\": {\n        \"dtype\": \"number\",\n        \"std\": 5240.120747642609,\n        \"min\": 0.9628019509440209,\n        \"max\": 21152.392837092408,\n        \"samples\": [\n          16.750351655102634,\n          0.9628019509440209,\n          3.0011992998901\n        ],\n        \"num_unique_values\": 16,\n        \"semantic_type\": \"\",\n        \"description\": \"\"\n      }\n    },\n    {\n      \"column\": \"min\",\n      \"properties\": {\n        \"dtype\": \"number\",\n        \"std\": 22500.736047444458,\n        \"min\": -124.301372,\n        \"max\": 90001.0,\n        \"samples\": [\n          21.36,\n          18.8,\n          19.0\n        ],\n        \"num_unique_values\": 12,\n        \"semantic_type\": \"\",\n        \"description\": \"\"\n      }\n    },\n    {\n      \"column\": \"25%\",\n      \"properties\": {\n        \"dtype\": \"number\",\n        \"std\": 22975.716909430146,\n        \"min\": -121.78809,\n        \"max\": 92101.0,\n        \"samples\": [\n          605.61,\n          400.15,\n          32.0\n        ],\n        \"num_unique_values\": 13,\n        \"semantic_type\": \"\",\n        \"description\": \"\"\n      }\n    },\n    {\n      \"column\": \"50%\",\n      \"properties\": {\n        \"dtype\": \"number\",\n        \"std\": 23427.265545299637,\n        \"min\": -119.595293,\n        \"max\": 93518.0,\n        \"samples\": [\n          2108.64,\n          1394.55,\n          46.0\n        ],\n        \"num_unique_values\": 13,\n        \"semantic_type\": \"\",\n        \"description\": \"\"\n      }\n    },\n    {\n      \"column\": \"75%\",\n      \"properties\": {\n        \"dtype\": \"number\",\n        \"std\": 24740.45082261219,\n        \"min\": -117.969795,\n        \"max\": 95329.0,\n        \"samples\": [\n          89.75,\n          1191.1,\n          60.0\n        ],\n        \"num_unique_values\": 14,\n        \"semantic_type\": \"\",\n        \"description\": \"\"\n      }\n    },\n    {\n      \"column\": \"max\",\n      \"properties\": {\n        \"dtype\": \"number\",\n        \"std\": 34022.61893454789,\n        \"min\": -114.192901,\n        \"max\": 105285.0,\n        \"samples\": [\n          80.0,\n          9.0,\n          11.0\n        ],\n        \"num_unique_values\": 16,\n        \"semantic_type\": \"\",\n        \"description\": \"\"\n      }\n    }\n  ]\n}"
            }
          },
          "metadata": {},
          "execution_count": 12
        }
      ]
    },
    {
      "cell_type": "markdown",
      "source": [
        "## Frequency counts for Target variable"
      ],
      "metadata": {
        "id": "YGWtD_QQfqpt"
      }
    },
    {
      "cell_type": "code",
      "source": [
        "df['Customer Status'].value_counts()"
      ],
      "metadata": {
        "colab": {
          "base_uri": "https://localhost:8080/"
        },
        "id": "Q44CGTNcfONO",
        "outputId": "0c89ea7d-97f4-4263-b316-c63d34ee9251"
      },
      "execution_count": 13,
      "outputs": [
        {
          "output_type": "execute_result",
          "data": {
            "text/plain": [
              "Stayed     4720\n",
              "Churned    1869\n",
              "Joined      454\n",
              "Name: Customer Status, dtype: int64"
            ]
          },
          "metadata": {},
          "execution_count": 13
        }
      ]
    },
    {
      "cell_type": "code",
      "source": [
        "plt.figure(figsize=(8, 6))\n",
        "sns.countplot(x='Customer Status', data=df)\n",
        "plt.show()"
      ],
      "metadata": {
        "colab": {
          "base_uri": "https://localhost:8080/",
          "height": 542
        },
        "id": "QrVkB3fEgLod",
        "outputId": "120ad361-dce5-428c-bd14-9e9c7238dbfa"
      },
      "execution_count": 14,
      "outputs": [
        {
          "output_type": "display_data",
          "data": {
            "text/plain": [
              "<Figure size 800x600 with 1 Axes>"
            ],
            "image/png": "[encoded data removed]"
          },
          "metadata": {}
        }
      ]
    },
    {
      "cell_type": "markdown",
      "source": [
        "## Age Vs churned"
      ],
      "metadata": {
        "id": "F_fnShs3FdBg"
      }
    },
    {
      "cell_type": "code",
      "source": [
        "age_group = pd.cut(df['Age'], bins=[18, 25, 35, 45, 55, 65, np.inf], labels=['18-25', '25-35', '35-45', '45-55', '55-65', '65+'])\n",
        "churned = df[df['Customer Status'] == 'Churned']\n",
        "churned_age_group = pd.cut(churned['Age'], bins=[18, 25, 35, 45, 55, 65, np.inf], labels=['18-25', '25-35', '35-45', '45-55', '55-65', '65+'])\n",
        "churned_age_group_counts = churned_age_group.value_counts().sort_index(ascending=False)\n",
        "plt.bar(churned_age_group_counts.index, churned_age_group_counts.values)\n",
        "plt.xlabel('Age Group')\n",
        "plt.ylabel('Number of Churned Customers')\n",
        "plt.title('Churned Customers by Age Group')\n",
        "plt.show()\n"
      ],
      "metadata": {
        "colab": {
          "base_uri": "https://localhost:8080/",
          "height": 472
        },
        "id": "cgXtssvsFIJ2",
        "outputId": "17b4297a-f460-47df-ccf5-0189dfea4bec"
      },
      "execution_count": 15,
      "outputs": [
        {
          "output_type": "display_data",
          "data": {
            "text/plain": [
              "<Figure size 640x480 with 1 Axes>"
            ],
            "image/png": "[encoded data removed]"
          },
          "metadata": {}
        }
      ]
    },
    {
      "cell_type": "code",
      "source": [
        "df.columns"
      ],
      "metadata": {
        "colab": {
          "base_uri": "https://localhost:8080/"
        },
        "id": "jfn_029jGApK",
        "outputId": "d9cc3af3-0178-485d-e33a-262e446cf80c"
      },
      "execution_count": 16,
      "outputs": [
        {
          "output_type": "execute_result",
          "data": {
            "text/plain": [
              "Index(['Gender', 'Age', 'Married', 'Number of Dependents', 'City', 'Zip Code',\n",
              "       'Latitude', 'Longitude', 'Number of Referrals', 'Tenure in Months',\n",
              "       'Offer', 'Phone Service', 'Avg Monthly Long Distance Charges',\n",
              "       'Multiple Lines', 'Internet Service', 'Internet Type',\n",
              "       'Avg Monthly GB Download', 'Online Security', 'Online Backup',\n",
              "       'Device Protection Plan', 'Premium Tech Support', 'Streaming TV',\n",
              "       'Streaming Movies', 'Streaming Music', 'Unlimited Data', 'Contract',\n",
              "       'Paperless Billing', 'Payment Method', 'Monthly Charge',\n",
              "       'Total Charges', 'Total Refunds', 'Total Extra Data Charges',\n",
              "       'Total Long Distance Charges', 'Total Revenue', 'Customer Status',\n",
              "       'Churn Category', 'Churn Reason', 'Population'],\n",
              "      dtype='object')"
            ]
          },
          "metadata": {},
          "execution_count": 16
        }
      ]
    },
    {
      "cell_type": "markdown",
      "source": [
        "## Check for missing values"
      ],
      "metadata": {
        "id": "OQU-BWPff-yz"
      }
    },
    {
      "cell_type": "code",
      "source": [
        "df.isnull().sum()"
      ],
      "metadata": {
        "colab": {
          "base_uri": "https://localhost:8080/"
        },
        "id": "k1aGRF8Gf8qE",
        "outputId": "135a2d03-5416-44d7-c98f-858cee68cb06"
      },
      "execution_count": 17,
      "outputs": [
        {
          "output_type": "execute_result",
          "data": {
            "text/plain": [
              "Gender                                  0\n",
              "Age                                     0\n",
              "Married                                 0\n",
              "Number of Dependents                    0\n",
              "City                                    0\n",
              "Zip Code                                0\n",
              "Latitude                                0\n",
              "Longitude                               0\n",
              "Number of Referrals                     0\n",
              "Tenure in Months                        0\n",
              "Offer                                   0\n",
              "Phone Service                           0\n",
              "Avg Monthly Long Distance Charges     682\n",
              "Multiple Lines                        682\n",
              "Internet Service                        0\n",
              "Internet Type                        1526\n",
              "Avg Monthly GB Download              1526\n",
              "Online Security                      1526\n",
              "Online Backup                        1526\n",
              "Device Protection Plan               1526\n",
              "Premium Tech Support                 1526\n",
              "Streaming TV                         1526\n",
              "Streaming Movies                     1526\n",
              "Streaming Music                      1526\n",
              "Unlimited Data                       1526\n",
              "Contract                                0\n",
              "Paperless Billing                       0\n",
              "Payment Method                          0\n",
              "Monthly Charge                          0\n",
              "Total Charges                           0\n",
              "Total Refunds                           0\n",
              "Total Extra Data Charges                0\n",
              "Total Long Distance Charges             0\n",
              "Total Revenue                           0\n",
              "Customer Status                         0\n",
              "Churn Category                       5174\n",
              "Churn Reason                         5174\n",
              "Population                              0\n",
              "dtype: int64"
            ]
          },
          "metadata": {},
          "execution_count": 17
        }
      ]
    },
    {
      "cell_type": "markdown",
      "source": [
        "## Check outliers"
      ],
      "metadata": {
        "id": "e8Y0-kqI77o5"
      }
    },
    {
      "cell_type": "code",
      "source": [
        "# List of all outliers in numerical variable\n",
        "\n",
        "outliers = []\n",
        "for col in numerical_variable_name:\n",
        "  Q1 = df[col].quantile(0.25)\n",
        "  Q3 = df[col].quantile(0.75)\n",
        "  IQR = Q3 - Q1\n",
        "  lower_bound = Q1 - 1.5 * IQR\n",
        "  upper_bound = Q3 + 1.5 * IQR\n",
        "  outlier_count = df[(df[col] < lower_bound) | (df[col] > upper_bound)].shape[0]\n",
        "  if outlier_count > 0:\n",
        "    outliers.append(col)\n",
        "print(outliers)\n"
      ],
      "metadata": {
        "colab": {
          "base_uri": "https://localhost:8080/"
        },
        "id": "F1vmAZum4xUV",
        "outputId": "d14ad20c-8537-4e3a-cf41-c60fbd7c4ad0"
      },
      "execution_count": 18,
      "outputs": [
        {
          "output_type": "stream",
          "name": "stdout",
          "text": [
            "['Number of Dependents', 'Number of Referrals', 'Avg Monthly GB Download', 'Total Refunds', 'Total Extra Data Charges', 'Total Long Distance Charges', 'Total Revenue', 'Population']\n"
          ]
        }
      ]
    },
    {
      "cell_type": "code",
      "source": [
        "# Plot outliers\n",
        "for col in outliers:\n",
        "  plt.figure(figsize=(10, 6))\n",
        "  sns.boxplot(x=col, data=df)\n",
        "  plt.title(f\"Boxplot for {col}\")\n",
        "  plt.show()\n"
      ],
      "metadata": {
        "colab": {
          "base_uri": "https://localhost:8080/",
          "height": 1000
        },
        "id": "5d_NuraO6jR-",
        "outputId": "e1f5efa5-6451-43a1-9538-b001acac8802"
      },
      "execution_count": 19,
      "outputs": [
        {
          "output_type": "display_data",
          "data": {
            "text/plain": [
              "<Figure size 1000x600 with 1 Axes>"
            ],
            "image/png": "[encoded data removed]"
          },
          "metadata": {}
        },
        {
          "output_type": "display_data",
          "data": {
            "text/plain": [
              "<Figure size 1000x600 with 1 Axes>"
            ],
            "image/png": "[encoded data removed]"
          },
          "metadata": {}
        },
        {
          "output_type": "display_data",
          "data": {
            "text/plain": [
              "<Figure size 1000x600 with 1 Axes>"
            ],
            "image/png": "[encoded data removed]"
          },
          "metadata": {}
        },
        {
          "output_type": "display_data",
          "data": {
            "text/plain": [
              "<Figure size 1000x600 with 1 Axes>"
            ],
            "image/png": "[encoded data removed]"
          },
          "metadata": {}
        },
        {
          "output_type": "display_data",
          "data": {
            "text/plain": [
              "<Figure size 1000x600 with 1 Axes>"
            ],
            "image/png": "[encoded data removed]"
          },
          "metadata": {}
        },
        {
          "output_type": "display_data",
          "data": {
            "text/plain": [
              "<Figure size 1000x600 with 1 Axes>"
            ],
            "image/png": "[encoded data removed]"
          },
          "metadata": {}
        },
        {
          "output_type": "display_data",
          "data": {
            "text/plain": [
              "<Figure size 1000x600 with 1 Axes>"
            ],
            "image/png": "[encoded data removed]"
          },
          "metadata": {}
        },
        {
          "output_type": "display_data",
          "data": {
            "text/plain": [
              "<Figure size 1000x600 with 1 Axes>"
            ],
            "image/png": "[encoded data removed]"
          },
          "metadata": {}
        }
      ]
    },
    {
      "cell_type": "markdown",
      "source": [
        "# Data Pre Processing"
      ],
      "metadata": {
        "id": "y4gD6d6lXYrH"
      }
    },
    {
      "cell_type": "markdown",
      "source": [
        "## Missing value imputation"
      ],
      "metadata": {
        "id": "blfpRFXqnVse"
      }
    },
    {
      "cell_type": "code",
      "source": [
        "# Missing value imputation for categorical_variable_name in df with mode\n",
        "\n",
        "imputer = SimpleImputer(strategy=\"most_frequent\")\n",
        "for col in categorical_variable_name:\n",
        "  df[col] = imputer.fit_transform(df[[col]])\n"
      ],
      "metadata": {
        "id": "F1cJRpS49eV1"
      },
      "execution_count": 20,
      "outputs": []
    },
    {
      "cell_type": "code",
      "source": [
        "# Missing value imputation for numerical_variable_name in df with mean\n",
        "imputer = SimpleImputer(missing_values=np.nan, strategy='mean')\n",
        "\n",
        "for col in numerical_variable_name:\n",
        "  df[col] = imputer.fit_transform(df[[col]])\n"
      ],
      "metadata": {
        "id": "gfaFtEpl8HSb"
      },
      "execution_count": 21,
      "outputs": []
    },
    {
      "cell_type": "markdown",
      "source": [
        "## Outlier treatment"
      ],
      "metadata": {
        "id": "4_hyjUcQ7vAL"
      }
    },
    {
      "cell_type": "code",
      "source": [
        "# Outliers treamtment\n",
        "for col in outliers:\n",
        "  lower_bound = df[col].quantile(0.25) - 1.5 * (df[col].quantile(0.75) - df[col].quantile(0.25))\n",
        "  upper_bound = df[col].quantile(0.75) + 1.5 * (df[col].quantile(0.75) - df[col].quantile(0.25))\n",
        "  df[col] = np.where(df[col] < lower_bound, lower_bound, df[col])\n",
        "  df[col] = np.where(df[col] > upper_bound, upper_bound, df[col])\n"
      ],
      "metadata": {
        "id": "lS74Oq98-Xl4"
      },
      "execution_count": 22,
      "outputs": []
    },
    {
      "cell_type": "code",
      "source": [],
      "metadata": {
        "id": "b0oNo8y_MKAz"
      },
      "execution_count": 22,
      "outputs": []
    },
    {
      "cell_type": "markdown",
      "source": [
        "## Categorical variable to numerical variable"
      ],
      "metadata": {
        "id": "Iw_KrcrxDsBT"
      }
    },
    {
      "cell_type": "markdown",
      "source": [
        "### Age variable"
      ],
      "metadata": {
        "id": "Mtp7zKf1MLF6"
      }
    },
    {
      "cell_type": "code",
      "source": [
        "# Convert Age column to age group\n",
        "df['age_group'] = pd.cut(df['Age'], bins=[18, 25, 35, 45, 55, 65, np.inf], labels=['18-25', '25-35', '35-45', '45-55', '55-65', '65+'])"
      ],
      "metadata": {
        "id": "wkiIFWjSGf5A"
      },
      "execution_count": 23,
      "outputs": []
    },
    {
      "cell_type": "markdown",
      "source": [
        "### Zip Code, City, Population"
      ],
      "metadata": {
        "id": "SRjBDZ_5MPOS"
      }
    },
    {
      "cell_type": "code",
      "source": [
        "df['Zip Code'].nunique()"
      ],
      "metadata": {
        "colab": {
          "base_uri": "https://localhost:8080/"
        },
        "id": "fYEFpygUNzQ4",
        "outputId": "b23486bc-45f8-4f35-8154-40f34078a614"
      },
      "execution_count": 24,
      "outputs": [
        {
          "output_type": "execute_result",
          "data": {
            "text/plain": [
              "1626"
            ]
          },
          "metadata": {},
          "execution_count": 24
        }
      ]
    },
    {
      "cell_type": "code",
      "source": [
        "# Binning City, Zip Code & Population together\n",
        "df['city_zip_pop'] = df['City'] + '_' + df['Zip Code'].astype(str)+'_'+ df['Population'].astype(str)"
      ],
      "metadata": {
        "id": "4BrOg-hXckTR"
      },
      "execution_count": 25,
      "outputs": []
    },
    {
      "cell_type": "markdown",
      "source": [
        "### Location based segmentation"
      ],
      "metadata": {
        "id": "S1OV670V3vhe"
      }
    },
    {
      "cell_type": "markdown",
      "source": [
        "Latitude and longitude based clustering"
      ],
      "metadata": {
        "id": "UJd-D4YLX3Ib"
      }
    },
    {
      "cell_type": "code",
      "source": [
        "# Extract latitude and longitude\n",
        "latitude = df['Latitude']\n",
        "longitude = df['Longitude']\n",
        "\n",
        "# Define number of clusters\n",
        "num_clusters = 3\n",
        "\n",
        "# Create KMeans model\n",
        "kmeans = KMeans(n_clusters=num_clusters)\n",
        "\n",
        "# Fit the model to the data\n",
        "kmeans.fit(df[['Latitude', 'Longitude']])\n",
        "\n",
        "# Add cluster labels to the dataframe\n",
        "df['cluster_label'] = kmeans.labels_\n",
        "\n",
        "# Plot the clusters\n",
        "plt.figure(figsize=(10, 7))\n",
        "plt.scatter(df['Latitude'], df['Longitude'], c=df['cluster_label'], cmap='viridis')\n",
        "plt.xlabel('Latitude')\n",
        "plt.ylabel('Longitude')\n",
        "plt.title('Customer Clusters Based on Location')\n",
        "plt.show()\n"
      ],
      "metadata": {
        "colab": {
          "base_uri": "https://localhost:8080/",
          "height": 587
        },
        "id": "XCuKK4QIYHza",
        "outputId": "07258a7f-d735-4300-df99-d9a1ef23a078"
      },
      "execution_count": 26,
      "outputs": [
        {
          "output_type": "stream",
          "name": "stderr",
          "text": [
            "/usr/local/lib/python3.10/dist-packages/sklearn/cluster/_kmeans.py:870: FutureWarning: The default value of `n_init` will change from 10 to 'auto' in 1.4. Set the value of `n_init` explicitly to suppress the warning\n",
            "  warnings.warn(\n"
          ]
        },
        {
          "output_type": "display_data",
          "data": {
            "text/plain": [
              "<Figure size 1000x700 with 1 Axes>"
            ],
            "image/png": "[encoded data removed]"
          },
          "metadata": {}
        }
      ]
    },
    {
      "cell_type": "code",
      "source": [
        "categorical_variable_name.append('city_zip_pop')\n",
        "categorical_variable_name.append('age_group')\n"
      ],
      "metadata": {
        "id": "Yz2l2IvbycTS"
      },
      "execution_count": 27,
      "outputs": []
    },
    {
      "cell_type": "markdown",
      "source": [
        "### Label encoding categorical variable"
      ],
      "metadata": {
        "id": "yIsXIpkck2fA"
      }
    },
    {
      "cell_type": "code",
      "source": [
        "# Convert categorical variable into numerical\n",
        "from sklearn.preprocessing import LabelEncoder\n",
        "le = LabelEncoder()\n",
        "for col in categorical_variable_name:\n",
        "  if col not in ['Latitude', 'Longitude']:\n",
        "    df[col] = le.fit_transform(df[col])\n",
        "# Convert target variable into numerical\n",
        "df['Customer Status'] = le.fit_transform(df['Customer Status'])\n"
      ],
      "metadata": {
        "id": "lsfbYut-S1xT"
      },
      "execution_count": 28,
      "outputs": []
    },
    {
      "cell_type": "markdown",
      "source": [
        "### updated categorical variable list"
      ],
      "metadata": {
        "id": "-3bVw8kUKed-"
      }
    },
    {
      "cell_type": "code",
      "source": [
        "df.columns"
      ],
      "metadata": {
        "colab": {
          "base_uri": "https://localhost:8080/"
        },
        "id": "3j7rh_dzxWLl",
        "outputId": "739be52c-6647-48f8-e5d0-c50f0c43a16a"
      },
      "execution_count": 29,
      "outputs": [
        {
          "output_type": "execute_result",
          "data": {
            "text/plain": [
              "Index(['Gender', 'Age', 'Married', 'Number of Dependents', 'City', 'Zip Code',\n",
              "       'Latitude', 'Longitude', 'Number of Referrals', 'Tenure in Months',\n",
              "       'Offer', 'Phone Service', 'Avg Monthly Long Distance Charges',\n",
              "       'Multiple Lines', 'Internet Service', 'Internet Type',\n",
              "       'Avg Monthly GB Download', 'Online Security', 'Online Backup',\n",
              "       'Device Protection Plan', 'Premium Tech Support', 'Streaming TV',\n",
              "       'Streaming Movies', 'Streaming Music', 'Unlimited Data', 'Contract',\n",
              "       'Paperless Billing', 'Payment Method', 'Monthly Charge',\n",
              "       'Total Charges', 'Total Refunds', 'Total Extra Data Charges',\n",
              "       'Total Long Distance Charges', 'Total Revenue', 'Customer Status',\n",
              "       'Churn Category', 'Churn Reason', 'Population', 'age_group',\n",
              "       'city_zip_pop', 'cluster_label'],\n",
              "      dtype='object')"
            ]
          },
          "metadata": {},
          "execution_count": 29
        }
      ]
    },
    {
      "cell_type": "code",
      "source": [
        "items_to_remove = ['City', 'Zip Code','Population','Age','Latitude','Longitude']\n",
        "categorical_variable_name=[item for item in categorical_variable_name if item not in items_to_remove]\n",
        "categorical_variable_name.append('cluster_label')\n",
        "categorical_variable_name"
      ],
      "metadata": {
        "colab": {
          "base_uri": "https://localhost:8080/"
        },
        "id": "4SZ-NWQQImFJ",
        "outputId": "2957c36c-ae84-4eea-c832-6007b4a086c1"
      },
      "execution_count": 30,
      "outputs": [
        {
          "output_type": "execute_result",
          "data": {
            "text/plain": [
              "['Gender',\n",
              " 'Married',\n",
              " 'Offer',\n",
              " 'Phone Service',\n",
              " 'Multiple Lines',\n",
              " 'Internet Service',\n",
              " 'Internet Type',\n",
              " 'Online Security',\n",
              " 'Online Backup',\n",
              " 'Device Protection Plan',\n",
              " 'Premium Tech Support',\n",
              " 'Streaming TV',\n",
              " 'Streaming Movies',\n",
              " 'Streaming Music',\n",
              " 'Unlimited Data',\n",
              " 'Contract',\n",
              " 'Paperless Billing',\n",
              " 'Payment Method',\n",
              " 'Churn Category',\n",
              " 'Churn Reason',\n",
              " 'city_zip_pop',\n",
              " 'age_group',\n",
              " 'cluster_label']"
            ]
          },
          "metadata": {},
          "execution_count": 30
        }
      ]
    },
    {
      "cell_type": "code",
      "source": [
        "df[categorical_variable_name].dtypes"
      ],
      "metadata": {
        "colab": {
          "base_uri": "https://localhost:8080/"
        },
        "id": "8W-Rb-G9_ES2",
        "outputId": "12453f7f-e78f-47d5-9cd9-d6e3a4b71daf"
      },
      "execution_count": 31,
      "outputs": [
        {
          "output_type": "execute_result",
          "data": {
            "text/plain": [
              "Gender                    int64\n",
              "Married                   int64\n",
              "Offer                     int64\n",
              "Phone Service             int64\n",
              "Multiple Lines            int64\n",
              "Internet Service          int64\n",
              "Internet Type             int64\n",
              "Online Security           int64\n",
              "Online Backup             int64\n",
              "Device Protection Plan    int64\n",
              "Premium Tech Support      int64\n",
              "Streaming TV              int64\n",
              "Streaming Movies          int64\n",
              "Streaming Music           int64\n",
              "Unlimited Data            int64\n",
              "Contract                  int64\n",
              "Paperless Billing         int64\n",
              "Payment Method            int64\n",
              "Churn Category            int64\n",
              "Churn Reason              int64\n",
              "city_zip_pop              int64\n",
              "age_group                 int64\n",
              "cluster_label             int32\n",
              "dtype: object"
            ]
          },
          "metadata": {},
          "execution_count": 31
        }
      ]
    },
    {
      "cell_type": "markdown",
      "source": [
        "# Creating data subset based on cluster"
      ],
      "metadata": {
        "id": "OlKTJouDzT-W"
      }
    },
    {
      "cell_type": "code",
      "source": [
        "# Clean data together\n",
        "df = pd.concat([df[numerical_variable_name], df[categorical_variable_name], df[target_variable_name]], axis=1)\n"
      ],
      "metadata": {
        "id": "IzJQddrFzqQ1"
      },
      "execution_count": 32,
      "outputs": []
    },
    {
      "cell_type": "code",
      "source": [
        "#Cluster 0 subset\n",
        "df_0 = df[df['cluster_label'] == 0]\n",
        "df_0=df_0.drop('cluster_label', axis=1)\n",
        "#Cluster 1 subset\n",
        "df_1 = df[df['cluster_label'] == 1]\n",
        "df_1=df_1.drop('cluster_label', axis=1)\n",
        "#Cluster 0 subset\n",
        "df_2 = df[df['cluster_label'] == 2]\n",
        "df_2=df_2.drop('cluster_label', axis=1)"
      ],
      "metadata": {
        "id": "WKuTPNtR0VBm"
      },
      "execution_count": 33,
      "outputs": []
    },
    {
      "cell_type": "code",
      "source": [
        "df_0.shape"
      ],
      "metadata": {
        "colab": {
          "base_uri": "https://localhost:8080/"
        },
        "id": "7d-nScIU2aeZ",
        "outputId": "4831df3f-1965-4d78-dc89-089b0bda2061"
      },
      "execution_count": 34,
      "outputs": [
        {
          "output_type": "execute_result",
          "data": {
            "text/plain": [
              "(3399, 35)"
            ]
          },
          "metadata": {},
          "execution_count": 34
        }
      ]
    },
    {
      "cell_type": "code",
      "source": [
        "df_0.dtypes"
      ],
      "metadata": {
        "colab": {
          "base_uri": "https://localhost:8080/"
        },
        "id": "NbJXnFEM2gek",
        "outputId": "052f7796-caab-46e6-ff44-5275f2ff4295"
      },
      "execution_count": 35,
      "outputs": [
        {
          "output_type": "execute_result",
          "data": {
            "text/plain": [
              "Number of Dependents                 float64\n",
              "Number of Referrals                  float64\n",
              "Tenure in Months                     float64\n",
              "Avg Monthly Long Distance Charges    float64\n",
              "Avg Monthly GB Download              float64\n",
              "Monthly Charge                       float64\n",
              "Total Charges                        float64\n",
              "Total Refunds                        float64\n",
              "Total Extra Data Charges             float64\n",
              "Total Long Distance Charges          float64\n",
              "Total Revenue                        float64\n",
              "Population                           float64\n",
              "Gender                                 int64\n",
              "Married                                int64\n",
              "Offer                                  int64\n",
              "Phone Service                          int64\n",
              "Multiple Lines                         int64\n",
              "Internet Service                       int64\n",
              "Internet Type                          int64\n",
              "Online Security                        int64\n",
              "Online Backup                          int64\n",
              "Device Protection Plan                 int64\n",
              "Premium Tech Support                   int64\n",
              "Streaming TV                           int64\n",
              "Streaming Movies                       int64\n",
              "Streaming Music                        int64\n",
              "Unlimited Data                         int64\n",
              "Contract                               int64\n",
              "Paperless Billing                      int64\n",
              "Payment Method                         int64\n",
              "Churn Category                         int64\n",
              "Churn Reason                           int64\n",
              "city_zip_pop                           int64\n",
              "age_group                              int64\n",
              "Customer Status                        int64\n",
              "dtype: object"
            ]
          },
          "metadata": {},
          "execution_count": 35
        }
      ]
    },
    {
      "cell_type": "code",
      "source": [
        "df_0[target_variable_name].value_counts()"
      ],
      "metadata": {
        "colab": {
          "base_uri": "https://localhost:8080/"
        },
        "id": "5pclEN40VLl7",
        "outputId": "0da26ce7-f53d-4d43-d0c4-3d25d3e25d00"
      },
      "execution_count": 36,
      "outputs": [
        {
          "output_type": "execute_result",
          "data": {
            "text/plain": [
              "Customer Status\n",
              "2                  2226\n",
              "0                   947\n",
              "1                   226\n",
              "dtype: int64"
            ]
          },
          "metadata": {},
          "execution_count": 36
        }
      ]
    },
    {
      "cell_type": "markdown",
      "source": [
        "# Train Test Split"
      ],
      "metadata": {
        "id": "AS5gk2nhXYwe"
      }
    },
    {
      "cell_type": "markdown",
      "source": [
        "## Cluster 0"
      ],
      "metadata": {
        "id": "YcouC7hp2CoQ"
      }
    },
    {
      "cell_type": "code",
      "source": [
        "# Separate features and target\n",
        "features = df_0.drop('Customer Status', axis=1)\n",
        "target = df_0['Customer Status']\n",
        "\n",
        "# Split the data into train and test sets\n",
        "X_train_0, X_test_0, y_train_0, y_test_0 = train_test_split(features, target, test_size=0.25, random_state=42)\n",
        "\n",
        "# Print the shapes of the train and test sets\n",
        "print('X_train_0 shape:', X_train_0.shape)\n",
        "print('y_train_0 shape:', y_train_0.shape)\n",
        "print('X_test_0 shape:', X_test_0.shape)\n",
        "print('y_test_0 shape:', y_test_0.shape)"
      ],
      "metadata": {
        "colab": {
          "base_uri": "https://localhost:8080/"
        },
        "id": "PZeZpYGr11qP",
        "outputId": "b5b40e66-f128-453c-fa94-e44ed315f1e9"
      },
      "execution_count": 37,
      "outputs": [
        {
          "output_type": "stream",
          "name": "stdout",
          "text": [
            "X_train_0 shape: (2549, 34)\n",
            "y_train_0 shape: (2549,)\n",
            "X_test_0 shape: (850, 34)\n",
            "y_test_0 shape: (850,)\n"
          ]
        }
      ]
    },
    {
      "cell_type": "code",
      "source": [
        "# Define the oversampling strategy\n",
        "oversampler = RandomOverSampler(sampling_strategy='all')\n",
        "\n",
        "# Fit the oversampler to the training data\n",
        "X_train_0, y_train_0 = oversampler.fit_resample(X_train_0, y_train_0)\n",
        "\n",
        "# Print the shapes of the balanced train data\n",
        "print('Balanced X_train_0 shape:', X_train_0.shape)\n",
        "print('Balanced y_train_0 shape:', y_train_0.shape)\n"
      ],
      "metadata": {
        "colab": {
          "base_uri": "https://localhost:8080/"
        },
        "id": "rlQgvyL-UdDS",
        "outputId": "d07cb7d1-7d68-4a1d-d694-d2024eb4d281"
      },
      "execution_count": 38,
      "outputs": [
        {
          "output_type": "stream",
          "name": "stdout",
          "text": [
            "Balanced X_train_0 shape: (5145, 34)\n",
            "Balanced y_train_0 shape: (5145,)\n"
          ]
        }
      ]
    },
    {
      "cell_type": "code",
      "source": [
        "y_train_0.value_counts()"
      ],
      "metadata": {
        "colab": {
          "base_uri": "https://localhost:8080/"
        },
        "id": "kQIE-Eq_V4cx",
        "outputId": "65e0eba0-064d-4f73-f2a9-96fba2874769"
      },
      "execution_count": 39,
      "outputs": [
        {
          "output_type": "execute_result",
          "data": {
            "text/plain": [
              "0    1715\n",
              "2    1715\n",
              "1    1715\n",
              "Name: Customer Status, dtype: int64"
            ]
          },
          "metadata": {},
          "execution_count": 39
        }
      ]
    },
    {
      "cell_type": "markdown",
      "source": [
        "## Cluster 1"
      ],
      "metadata": {
        "id": "R4Nvg7Lg91S3"
      }
    },
    {
      "cell_type": "markdown",
      "source": [
        "## Cluster 2"
      ],
      "metadata": {
        "id": "9HZBeWInRQES"
      }
    },
    {
      "cell_type": "markdown",
      "source": [
        "# Feature selection"
      ],
      "metadata": {
        "id": "LSwC4CJe4iKM"
      }
    },
    {
      "cell_type": "code",
      "source": [
        "# get feature importance score\n",
        "from sklearn.ensemble import RandomForestClassifier\n",
        "\n",
        "# Instantiate a RandomForestClassifier\n",
        "rf = RandomForestClassifier()\n",
        "\n",
        "# Fit the model on the training set\n",
        "rf.fit(X_train_0, y_train_0)\n",
        "\n",
        "# Get the feature importances\n",
        "importances = rf.feature_importances_\n",
        "\n",
        "# Create a DataFrame of feature importances\n",
        "feature_importances = pd.DataFrame({\n",
        "    'feature': X_train_0.columns,\n",
        "    'importance': importances\n",
        "}).sort_values('importance', ascending=False)\n",
        "\n",
        "# Print the feature importances\n",
        "print(feature_importances)\n"
      ],
      "metadata": {
        "colab": {
          "base_uri": "https://localhost:8080/"
        },
        "id": "yue-WtfS7cHC",
        "outputId": "015ff887-084b-412c-b4d2-0706680b9970"
      },
      "execution_count": 40,
      "outputs": [
        {
          "output_type": "stream",
          "name": "stdout",
          "text": [
            "                              feature  importance\n",
            "31                       Churn Reason    0.225128\n",
            "2                    Tenure in Months    0.153628\n",
            "6                       Total Charges    0.102001\n",
            "10                      Total Revenue    0.097337\n",
            "30                     Churn Category    0.091026\n",
            "9         Total Long Distance Charges    0.059818\n",
            "27                           Contract    0.050048\n",
            "5                      Monthly Charge    0.033755\n",
            "1                 Number of Referrals    0.023086\n",
            "32                       city_zip_pop    0.021095\n",
            "11                         Population    0.019241\n",
            "3   Avg Monthly Long Distance Charges    0.016639\n",
            "4             Avg Monthly GB Download    0.016471\n",
            "33                          age_group    0.010939\n",
            "17                   Internet Service    0.008965\n",
            "29                     Payment Method    0.008318\n",
            "14                              Offer    0.006883\n",
            "28                  Paperless Billing    0.006529\n",
            "16                     Multiple Lines    0.005617\n",
            "13                            Married    0.005530\n",
            "18                      Internet Type    0.005160\n",
            "22               Premium Tech Support    0.005049\n",
            "19                    Online Security    0.004650\n",
            "20                      Online Backup    0.004127\n",
            "24                   Streaming Movies    0.003281\n",
            "23                       Streaming TV    0.003140\n",
            "25                    Streaming Music    0.002948\n",
            "12                             Gender    0.002659\n",
            "21             Device Protection Plan    0.002541\n",
            "15                      Phone Service    0.002374\n",
            "26                     Unlimited Data    0.002019\n",
            "8            Total Extra Data Charges    0.000000\n",
            "7                       Total Refunds    0.000000\n",
            "0                Number of Dependents    0.000000\n"
          ]
        }
      ]
    },
    {
      "cell_type": "code",
      "source": [
        "y_train_0.value_counts()"
      ],
      "metadata": {
        "colab": {
          "base_uri": "https://localhost:8080/"
        },
        "id": "DbppaJb1-E_A",
        "outputId": "6e85b2ce-336c-46ec-98e9-09a6b185614e"
      },
      "execution_count": 41,
      "outputs": [
        {
          "output_type": "execute_result",
          "data": {
            "text/plain": [
              "0    1715\n",
              "2    1715\n",
              "1    1715\n",
              "Name: Customer Status, dtype: int64"
            ]
          },
          "metadata": {},
          "execution_count": 41
        }
      ]
    },
    {
      "cell_type": "code",
      "source": [
        "#Keep top 6 feature as per feature_importances in training set\n",
        "X_train_0 = X_train_0[feature_importances['feature'].head(6).to_list()]\n",
        "X_test_0 = X_test_0[feature_importances['feature'].head(6).to_list()]\n",
        "\n"
      ],
      "metadata": {
        "id": "XAA_Yw3V_ySe"
      },
      "execution_count": 42,
      "outputs": []
    },
    {
      "cell_type": "markdown",
      "source": [
        "# Build Model"
      ],
      "metadata": {
        "id": "BKtGz0rZAgPA"
      }
    },
    {
      "cell_type": "code",
      "source": [
        "# Define models\n",
        "models = [\n",
        "    LogisticRegression(max_iter=1000),\n",
        "    XGBClassifier(use_label_encoder=False, eval_metric='mlogloss'),\n",
        "    RUSBoostClassifier(),\n",
        "    EasyEnsembleClassifier(random_state=1),\n",
        "]\n",
        "\n",
        "# Define names for models\n",
        "model_names = [\n",
        "    \"Logistic Regression\",\n",
        "    \"XGBoost\",\n",
        "    \"SMOTEBoost\",\n",
        "    \"EasyEnsembleClassifier\",\n",
        "]"
      ],
      "metadata": {
        "id": "H6-bTD4hQsXK"
      },
      "execution_count": 43,
      "outputs": []
    },
    {
      "cell_type": "markdown",
      "source": [
        "# Train and evaluate models"
      ],
      "metadata": {
        "id": "SRx3wnSkQzwY"
      }
    },
    {
      "cell_type": "markdown",
      "source": [
        "## Cluster 0"
      ],
      "metadata": {
        "id": "e0LUwNJoZGT7"
      }
    },
    {
      "cell_type": "code",
      "source": [
        "# Train and evaluate models\n",
        "for model, name in zip(models, model_names):\n",
        "    model.fit(X_train_0, y_train_0)\n",
        "    y_pred_0 = model.predict(X_test_0)\n",
        "    accuracy = accuracy_score(y_test_0, y_pred_0)\n",
        "    recall = recall_score(y_test_0, y_pred_0, average='macro')\n",
        "    precision = precision_score(y_test_0, y_pred_0, average='macro')\n",
        "    f1 = f1_score(y_test_0, y_pred_0, average='macro')\n",
        "    print(f\"Model: {name}\")\n",
        "    print(f\"Accuracy: {accuracy:.2f}\")\n",
        "    print(f\"Recall: {recall:.2f}\")\n",
        "    print(f\"Precision: {precision:.2f}\")\n",
        "    print(f\"F1 Score: {f1:.2f}\")\n",
        "    print()"
      ],
      "metadata": {
        "colab": {
          "base_uri": "https://localhost:8080/"
        },
        "id": "kCtWQa8HAkwV",
        "outputId": "d428b1c5-7623-4af1-8a2d-2b0d8fb17d7d"
      },
      "execution_count": 49,
      "outputs": [
        {
          "output_type": "stream",
          "name": "stderr",
          "text": [
            "/usr/local/lib/python3.10/dist-packages/sklearn/linear_model/_logistic.py:458: ConvergenceWarning: lbfgs failed to converge (status=1):\n",
            "STOP: TOTAL NO. of ITERATIONS REACHED LIMIT.\n",
            "\n",
            "Increase the number of iterations (max_iter) or scale the data as shown in:\n",
            "    https://scikit-learn.org/stable/modules/preprocessing.html\n",
            "Please also refer to the documentation for alternative solver options:\n",
            "    https://scikit-learn.org/stable/modules/linear_model.html#logistic-regression\n",
            "  n_iter_i = _check_optimize_result(\n"
          ]
        },
        {
          "output_type": "stream",
          "name": "stdout",
          "text": [
            "Model: Logistic Regression\n",
            "Accuracy: 0.86\n",
            "Recall: 0.87\n",
            "Precision: 0.79\n",
            "F1 Score: 0.82\n",
            "\n",
            "Model: XGBoost\n",
            "Accuracy: 0.95\n",
            "Recall: 0.92\n",
            "Precision: 0.93\n",
            "F1 Score: 0.93\n",
            "\n",
            "Model: SMOTEBoost\n",
            "Accuracy: 0.96\n",
            "Recall: 0.96\n",
            "Precision: 0.94\n",
            "F1 Score: 0.95\n",
            "\n",
            "Model: EasyEnsembleClassifier\n",
            "Accuracy: 0.69\n",
            "Recall: 0.67\n",
            "Precision: 0.40\n",
            "F1 Score: 0.49\n",
            "\n"
          ]
        },
        {
          "output_type": "stream",
          "name": "stderr",
          "text": [
            "/usr/local/lib/python3.10/dist-packages/sklearn/metrics/_classification.py:1344: UndefinedMetricWarning: Precision is ill-defined and being set to 0.0 in labels with no predicted samples. Use `zero_division` parameter to control this behavior.\n",
            "  _warn_prf(average, modifier, msg_start, len(result))\n"
          ]
        }
      ]
    },
    {
      "cell_type": "markdown",
      "source": [
        "## Cluster 1"
      ],
      "metadata": {
        "id": "b5QQZEfigxLW"
      }
    },
    {
      "cell_type": "markdown",
      "source": [
        "## Cluster 2"
      ],
      "metadata": {
        "id": "RELdhromg07-"
      }
    },
    {
      "cell_type": "markdown",
      "source": [
        "# Output based on best model on the evaluation metrics"
      ],
      "metadata": {
        "id": "0XZTdjHTYpPW"
      }
    },
    {
      "cell_type": "markdown",
      "source": [
        "## Cluster O"
      ],
      "metadata": {
        "id": "cQZTUgg9ZMTO"
      }
    },
    {
      "cell_type": "code",
      "source": [
        "# Choose the best model based on the evaluation metrics\n",
        "best_model_0 = RUSBoostClassifier()\n",
        "\n",
        "# Train the best model on the entire training data\n",
        "best_model_0.fit(X_train_0, y_train_0)\n",
        "\n",
        "# Get predictions on the test data\n",
        "y_pred_0 = best_model_0.predict(X_test_0)\n",
        "\n",
        "# Print the predictions\n",
        "print(y_pred_0)"
      ],
      "metadata": {
        "colab": {
          "base_uri": "https://localhost:8080/"
        },
        "id": "1Ow_67chYQ5P",
        "outputId": "51144720-0441-42ae-eefe-2fcb8abb4280"
      },
      "execution_count": 54,
      "outputs": [
        {
          "output_type": "stream",
          "name": "stdout",
          "text": [
            "[0 0 0 2 2 2 2 2 2 2 2 0 2 2 0 2 2 2 2 2 2 1 2 0 0 2 0 2 2 2 2 0 2 2 0 0 2\n",
            " 0 2 0 2 0 2 0 2 2 2 0 2 2 2 0 0 2 2 2 2 2 2 2 2 0 2 0 2 2 0 2 2 2 0 0 0 1\n",
            " 2 2 2 0 0 2 2 2 0 2 2 2 0 1 0 2 2 1 2 2 0 1 1 2 0 0 1 2 2 2 2 2 2 2 0 2 0\n",
            " 0 2 0 2 2 2 0 2 2 0 0 2 0 2 2 0 0 2 0 0 2 0 2 2 2 2 2 0 2 2 2 2 2 2 2 1 0\n",
            " 2 1 2 1 0 1 2 2 0 0 2 2 0 1 0 1 2 2 2 2 1 2 2 2 2 2 0 2 2 2 2 0 2 0 0 0 1\n",
            " 2 0 1 1 2 2 0 2 2 1 2 2 2 2 2 0 2 0 2 0 2 2 1 0 1 0 2 2 2 0 0 2 2 2 2 2 0\n",
            " 2 2 2 2 0 2 1 2 0 0 0 0 2 2 0 2 2 0 2 2 2 1 2 2 2 2 2 2 0 2 2 2 2 2 2 2 2\n",
            " 2 2 2 2 2 2 2 0 2 2 0 0 0 2 2 2 2 0 2 2 1 2 2 0 0 2 2 2 2 0 2 0 2 2 0 2 2\n",
            " 2 2 0 0 0 2 0 2 0 2 1 2 1 2 2 0 2 2 2 0 2 2 2 2 1 2 0 0 2 0 2 2 2 2 0 0 2\n",
            " 2 2 2 2 2 2 0 2 0 1 2 2 0 2 0 2 2 2 2 1 2 2 2 0 2 2 1 1 2 0 0 0 2 2 2 1 2\n",
            " 2 2 0 2 2 0 0 0 2 2 2 2 0 0 1 2 2 2 0 2 2 2 1 2 2 2 2 0 1 2 0 2 0 0 0 2 2\n",
            " 2 2 2 1 2 2 2 2 2 0 2 1 2 2 2 2 2 2 2 2 2 2 1 2 0 2 2 0 2 2 0 2 2 2 2 2 2\n",
            " 2 2 2 2 2 0 2 2 2 0 2 1 0 2 2 2 0 2 2 2 0 2 0 2 2 2 0 0 2 2 2 0 2 2 2 2 2\n",
            " 2 2 2 0 2 2 2 0 2 0 2 2 2 2 0 0 2 0 2 2 0 2 0 2 2 2 2 2 2 2 1 0 2 1 2 0 2\n",
            " 2 2 2 1 0 2 2 0 2 2 0 2 2 0 0 0 2 2 0 2 1 2 2 2 0 1 2 2 1 0 2 0 1 0 0 2 2\n",
            " 1 2 0 2 0 2 1 0 0 2 2 1 2 2 2 0 2 2 0 2 0 0 2 0 1 2 2 2 2 1 0 2 2 2 2 2 0\n",
            " 1 2 0 1 0 2 0 0 0 1 1 0 2 2 0 2 2 2 2 0 2 2 2 2 1 0 2 2 2 0 0 1 2 2 2 2 1\n",
            " 2 2 0 0 2 0 2 0 2 2 2 2 2 2 2 2 1 2 2 1 2 0 1 2 2 2 2 2 2 2 0 0 0 2 2 2 0\n",
            " 1 2 2 0 2 2 2 0 1 2 2 0 2 2 2 0 1 2 2 2 1 0 0 2 2 2 2 2 2 0 2 2 2 0 2 0 2\n",
            " 0 0 2 1 2 0 2 0 0 0 2 2 0 0 0 2 2 2 2 2 2 2 2 2 2 1 2 0 0 2 2 2 0 0 0 2 0\n",
            " 1 2 2 2 0 2 2 2 0 0 2 2 2 2 2 2 1 2 2 2 0 1 1 2 2 0 0 2 2 0 1 2 2 1 2 0 2\n",
            " 2 0 2 1 0 0 2 0 0 2 0 2 2 2 2 2 0 0 2 2 2 2 0 1 0 2 2 2 2 0 2 1 2 2 0 2 2\n",
            " 2 1 2 0 2 2 2 2 0 2 2 0 2 1 2 1 2 1 2 0 0 2 2 2 1 2 0 2 0 1 2 2 2 1 1 1]\n"
          ]
        }
      ]
    },
    {
      "cell_type": "code",
      "source": [
        "# prompt: create a data frame with y_pred_0 and y_test_0 with one column matching or not\n",
        "\n",
        "result = pd.DataFrame({'y_pred_0': y_pred_0, 'y_test_0': y_test_0, 'match': y_pred_0 == y_test_0})\n",
        "print(result)\n"
      ],
      "metadata": {
        "colab": {
          "base_uri": "https://localhost:8080/"
        },
        "id": "afllzi8iaH-I",
        "outputId": "ee2ba7ad-10af-4718-e808-74085c727e9c"
      },
      "execution_count": 57,
      "outputs": [
        {
          "output_type": "stream",
          "name": "stdout",
          "text": [
            "      y_pred_0  y_test_0  match\n",
            "641          0         0   True\n",
            "5922         0         0   True\n",
            "4402         0         0   True\n",
            "919          2         2   True\n",
            "1021         2         2   True\n",
            "...        ...       ...    ...\n",
            "3462         2         2   True\n",
            "4092         2         2   True\n",
            "5196         1         1   True\n",
            "6764         1         1   True\n",
            "6715         1         1   True\n",
            "\n",
            "[850 rows x 3 columns]\n"
          ]
        }
      ]
    },
    {
      "cell_type": "code",
      "source": [
        "accuracy = accuracy_score(y_test_0, y_pred_0)\n",
        "recall = recall_score(y_test_0, y_pred_0, average='macro')\n",
        "precision = precision_score(y_test_0, y_pred_0, average='macro')\n",
        "f1 = f1_score(y_test_0, y_pred_0, average='macro')\n",
        "print(f\"Model: {'SMOTEBoost'}\")\n",
        "print(f\"Accuracy: {accuracy:.2f}\")\n",
        "print(f\"Recall: {recall:.2f}\")\n",
        "print(f\"Precision: {precision:.2f}\")\n",
        "print(f\"F1 Score: {f1:.2f}\")\n",
        "print()"
      ],
      "metadata": {
        "colab": {
          "base_uri": "https://localhost:8080/"
        },
        "id": "x8raMm07aen2",
        "outputId": "cae74a57-238f-40b3-dc43-4f5312816c7c"
      },
      "execution_count": 60,
      "outputs": [
        {
          "output_type": "stream",
          "name": "stdout",
          "text": [
            "Model: SMOTEBoost\n",
            "Accuracy: 0.96\n",
            "Recall: 0.96\n",
            "Precision: 0.94\n",
            "F1 Score: 0.95\n",
            "\n"
          ]
        }
      ]
    },
    {
      "cell_type": "markdown",
      "source": [
        "##Cluster 1"
      ],
      "metadata": {
        "id": "CNKE_PcOgOm_"
      }
    },
    {
      "cell_type": "markdown",
      "source": [
        "## Cluster 2"
      ],
      "metadata": {
        "id": "v-a2Z49_g-xP"
      }
    },
    {
      "cell_type": "code",
      "source": [],
      "metadata": {
        "id": "64duGZkIhCWP"
      },
      "execution_count": null,
      "outputs": []
    }
  ]
}